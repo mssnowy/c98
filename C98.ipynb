{
  "nbformat": 4,
  "nbformat_minor": 0,
  "metadata": {
    "colab": {
      "provenance": [],
      "authorship_tag": "ABX9TyMeiDA0o1rhWPimuePcS+Yc",
      "include_colab_link": true
    },
    "kernelspec": {
      "name": "python3",
      "display_name": "Python 3"
    },
    "language_info": {
      "name": "python"
    }
  },
  "cells": [
    {
      "cell_type": "markdown",
      "metadata": {
        "id": "view-in-github",
        "colab_type": "text"
      },
      "source": [
        "<a href=\"https://colab.research.google.com/github/mssnowy/c98/blob/main/C98.ipynb\" target=\"_parent\"><img src=\"https://colab.research.google.com/assets/colab-badge.svg\" alt=\"Open In Colab\"/></a>"
      ]
    },
    {
      "cell_type": "code",
      "execution_count": 3,
      "metadata": {
        "colab": {
          "base_uri": "https://localhost:8080/"
        },
        "id": "vf56Cu2XwNzD",
        "outputId": "aa741e22-870d-4456-f07b-44edf3e3bf20"
      },
      "outputs": [
        {
          "output_type": "stream",
          "name": "stdout",
          "text": [
            "[32, 54, 67, 98, 12]\n"
          ]
        },
        {
          "output_type": "execute_result",
          "data": {
            "text/plain": [
              "5"
            ]
          },
          "metadata": {},
          "execution_count": 3
        }
      ],
      "source": [
        "list1 = [32, 54, 67, 98, 12]\n",
        "print(list1)\n",
        "type(list1)\n",
        "len(list1)"
      ]
    },
    {
      "cell_type": "code",
      "source": [
        "list2 = ['sisira', 'james', 'emily', 'sara', 'max']\n",
        "print(list2)\n",
        "type(list2)\n",
        "len(list2)"
      ],
      "metadata": {
        "colab": {
          "base_uri": "https://localhost:8080/"
        },
        "id": "LeMur8D3wwD2",
        "outputId": "c9ed57d1-5d74-4ffc-9119-e79fa3407732"
      },
      "execution_count": 4,
      "outputs": [
        {
          "output_type": "stream",
          "name": "stdout",
          "text": [
            "['sisira', 'james', 'emily', 'sara', 'max']\n"
          ]
        },
        {
          "output_type": "execute_result",
          "data": {
            "text/plain": [
              "5"
            ]
          },
          "metadata": {},
          "execution_count": 4
        }
      ]
    },
    {
      "cell_type": "code",
      "source": [
        "list1 = [32, 54, 67, 98, 12]\n",
        "list1.index(12)\n",
        "list1.index(54)"
      ],
      "metadata": {
        "colab": {
          "base_uri": "https://localhost:8080/"
        },
        "id": "y_gv5qooxMJ-",
        "outputId": "0e180eeb-4e42-4e1a-f70f-9e717bfaa5a0"
      },
      "execution_count": 6,
      "outputs": [
        {
          "output_type": "execute_result",
          "data": {
            "text/plain": [
              "1"
            ]
          },
          "metadata": {},
          "execution_count": 6
        }
      ]
    },
    {
      "cell_type": "code",
      "source": [
        "list1 = [32, 54, 67, 98, 12]\n",
        "#print(list1[2])\n",
        "list1[0]"
      ],
      "metadata": {
        "colab": {
          "base_uri": "https://localhost:8080/"
        },
        "id": "XCD36x-Xxd8X",
        "outputId": "eee27b72-510c-4b2b-d2d8-81d46ec348ea"
      },
      "execution_count": 8,
      "outputs": [
        {
          "output_type": "execute_result",
          "data": {
            "text/plain": [
              "32"
            ]
          },
          "metadata": {},
          "execution_count": 8
        }
      ]
    },
    {
      "cell_type": "code",
      "source": [
        "list1 = [32, 54, 67, 98, 12]\n",
        "list1[-4]"
      ],
      "metadata": {
        "colab": {
          "base_uri": "https://localhost:8080/"
        },
        "id": "o7_TS41kx24H",
        "outputId": "79a6b01f-6dd7-4b4b-d630-ee32d4ead7c0"
      },
      "execution_count": 9,
      "outputs": [
        {
          "output_type": "execute_result",
          "data": {
            "text/plain": [
              "54"
            ]
          },
          "metadata": {},
          "execution_count": 9
        }
      ]
    },
    {
      "cell_type": "code",
      "source": [
        "list3 = [32, 54, 67, 98, 12, 29, 41, 70, 5, 37]\n",
        "list3[0:2]\n",
        "list3[0:5]"
      ],
      "metadata": {
        "colab": {
          "base_uri": "https://localhost:8080/"
        },
        "id": "FsegI_lBySuH",
        "outputId": "1c66679f-831f-49ef-c652-c5f0b49c8d66"
      },
      "execution_count": 12,
      "outputs": [
        {
          "output_type": "execute_result",
          "data": {
            "text/plain": [
              "[32, 54, 67, 98, 12]"
            ]
          },
          "metadata": {},
          "execution_count": 12
        }
      ]
    },
    {
      "cell_type": "code",
      "source": [
        "list3 = [32, 54, 67, 98, 12, 29, 41, 70, 5, 37]\n",
        "list3[-5:-3]\n",
        "list3[-8:-5]"
      ],
      "metadata": {
        "colab": {
          "base_uri": "https://localhost:8080/"
        },
        "id": "6zdhmo4zy6rG",
        "outputId": "2557e826-b77c-460c-f03f-65a5e6d84229"
      },
      "execution_count": 14,
      "outputs": [
        {
          "output_type": "execute_result",
          "data": {
            "text/plain": [
              "[67, 98, 12]"
            ]
          },
          "metadata": {},
          "execution_count": 14
        }
      ]
    },
    {
      "cell_type": "code",
      "source": [
        "list3 = [32, 54, 67, 98, 12, 29, 41, 70, 58, 37]\n",
        "for elements in list3:\n",
        "  print(elements)"
      ],
      "metadata": {
        "colab": {
          "base_uri": "https://localhost:8080/"
        },
        "id": "RNPbanaf0RZU",
        "outputId": "c347d695-05a2-4b74-dde7-18307bd12dc8"
      },
      "execution_count": 16,
      "outputs": [
        {
          "output_type": "stream",
          "name": "stdout",
          "text": [
            "32\n",
            "54\n",
            "67\n",
            "98\n",
            "12\n",
            "29\n",
            "41\n",
            "70\n",
            "58\n",
            "37\n"
          ]
        }
      ]
    },
    {
      "cell_type": "code",
      "source": [
        "list2 = ['sisira', 'james', 'emily', 'sara', 'max']\n",
        "for names in list2:\n",
        "  print(names)"
      ],
      "metadata": {
        "colab": {
          "base_uri": "https://localhost:8080/"
        },
        "id": "paXuNJSD0l7g",
        "outputId": "4ce049dd-34f6-41a6-e44b-972470146f39"
      },
      "execution_count": 17,
      "outputs": [
        {
          "output_type": "stream",
          "name": "stdout",
          "text": [
            "sisira\n",
            "james\n",
            "emily\n",
            "sara\n",
            "max\n"
          ]
        }
      ]
    },
    {
      "cell_type": "code",
      "source": [
        "list2 = ['sisira', 'james', 'emily', 'sara', 'max']\n",
        "for i in range (0,5):\n",
        "  #print(i)\n",
        "  print(list2[i])"
      ],
      "metadata": {
        "colab": {
          "base_uri": "https://localhost:8080/"
        },
        "id": "K_Yc2Kkv01Ov",
        "outputId": "7150e3cd-3f9e-4a73-c929-4ac5089d5be8"
      },
      "execution_count": 20,
      "outputs": [
        {
          "output_type": "stream",
          "name": "stdout",
          "text": [
            "sisira\n",
            "james\n",
            "emily\n",
            "sara\n",
            "max\n"
          ]
        }
      ]
    },
    {
      "cell_type": "code",
      "source": [
        "for i in range (0,10,2):\n",
        "  print(i)"
      ],
      "metadata": {
        "colab": {
          "base_uri": "https://localhost:8080/"
        },
        "id": "rU39r87t1MyY",
        "outputId": "0baf21fe-cd12-46c4-80be-c0b6c95fa3b6"
      },
      "execution_count": 21,
      "outputs": [
        {
          "output_type": "stream",
          "name": "stdout",
          "text": [
            "0\n",
            "2\n",
            "4\n",
            "6\n",
            "8\n"
          ]
        }
      ]
    },
    {
      "cell_type": "code",
      "source": [
        "for i in range (1,10,2):\n",
        "  print(i)"
      ],
      "metadata": {
        "colab": {
          "base_uri": "https://localhost:8080/"
        },
        "id": "vV34vGA21c0F",
        "outputId": "3bcdcfba-3ece-4289-cbaf-56ccbc9b3830"
      },
      "execution_count": 24,
      "outputs": [
        {
          "output_type": "stream",
          "name": "stdout",
          "text": [
            "1\n",
            "3\n",
            "5\n",
            "7\n",
            "9\n"
          ]
        }
      ]
    },
    {
      "cell_type": "code",
      "source": [
        "for i in range (10,0,-1):\n",
        "  print(i)"
      ],
      "metadata": {
        "colab": {
          "base_uri": "https://localhost:8080/"
        },
        "id": "8Gym2Xs01tTw",
        "outputId": "977ed79f-9ae1-46c7-cea4-0881458ddc0d"
      },
      "execution_count": 29,
      "outputs": [
        {
          "output_type": "stream",
          "name": "stdout",
          "text": [
            "10\n",
            "9\n",
            "8\n",
            "7\n",
            "6\n",
            "5\n",
            "4\n",
            "3\n",
            "2\n",
            "1\n"
          ]
        }
      ]
    },
    {
      "cell_type": "code",
      "source": [
        "list5 = [75, 98, 89, 86, 79, 62, 78, 61, 90, 97, 92, 61, 64, 97, 82, 69, 87, 96, 65, 75, 85, 76, 95, 83, 62, 80, 80, 77, 94, 71, 86, 94, 85, 99, 77, 68, 92, 91, 99, 90]\n",
        "count = 0\n",
        "check_number = 75\n",
        "for i in list5:\n",
        "  if (check_number == i):\n",
        "    count = count+1\n",
        "print(count)"
      ],
      "metadata": {
        "colab": {
          "base_uri": "https://localhost:8080/"
        },
        "id": "8a7RqP622xDD",
        "outputId": "44923a4c-2b9f-4329-e05c-debdd9381e47"
      },
      "execution_count": 34,
      "outputs": [
        {
          "output_type": "stream",
          "name": "stdout",
          "text": [
            "2\n"
          ]
        }
      ]
    }
  ]
}